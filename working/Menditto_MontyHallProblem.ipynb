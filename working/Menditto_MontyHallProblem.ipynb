{
 "cells": [
  {
   "cell_type": "code",
   "execution_count": 1,
   "id": "c90a0d86-8f2b-4459-b7b4-2e7b18a439df",
   "metadata": {},
   "outputs": [],
   "source": [
    "import matplotlib.pyplot as plt\n",
    "import numpy as np\n",
    "import math as mt"
   ]
  },
  {
   "cell_type": "markdown",
   "id": "19e32621-4307-42d3-9a2a-acb337bf14eb",
   "metadata": {},
   "source": [
    "### Monty Hall Problem"
   ]
  },
  {
   "cell_type": "markdown",
   "id": "e93f0a91-341d-42d5-a8a8-71ac476eb9fb",
   "metadata": {},
   "source": [
    "Ci sono 3 porte, 1 sola è vincente:\r\n",
    "\r\n",
    "1. scelgo 1 porta\r\n",
    "2. si apre una delle due che non ho scelto e scopro che non è vincente\r\n",
    "3. mi viene chiesto se voglio cambiare scelta\r\n",
    "4. arriva un terzo che deve scegliere solo fra 2 porte perchè vede a priori l'altra aperta\r\n",
    "\r\n",
    "Chi ha più probabilità di vincere, chi rimane con la prima scelta, chi cambia o chi arriva dopo?"
   ]
  },
  {
   "cell_type": "code",
   "execution_count": 2,
   "id": "2f99e02d-2edd-4d2b-b9d1-59fbbf196c37",
   "metadata": {},
   "outputs": [
    {
     "name": "stdout",
     "output_type": "stream",
     "text": [
      "Keeper win probability:  0.3399\n",
      "Switcher win probability:  0.6601\n",
      "Later win probability:  0.5028\n"
     ]
    }
   ],
   "source": [
    "keeper_wins = 0\n",
    "switcher_wins = 0\n",
    "later_wins = 0\n",
    "rounds = 10000\n",
    "\n",
    "for i in range(rounds):\n",
    "\n",
    "  vec_game = np.zeros(3)\n",
    "  win = np.random.randint(0,3)\n",
    "  vec_game[win] = 1\n",
    "\n",
    "  first_choice = np.random.randint(0,3)\n",
    "\n",
    "  monty_opens = np.random.randint(0,3)\n",
    "  while(monty_opens == first_choice or monty_opens == win):\n",
    "    monty_opens = np.random.randint(0,3)\n",
    "\n",
    "  second_choice = np.random.randint(0,3)\n",
    "  while(second_choice == first_choice or second_choice == monty_opens):\n",
    "    second_choice = np.random.randint(0,3)\n",
    "\n",
    "  third_choice = np.random.randint(0,3)\n",
    "  while(third_choice == monty_opens):\n",
    "    third_choice = np.random.randint(0,3)\n",
    "\n",
    "  keeper = first_choice\n",
    "  switcher = second_choice\n",
    "  later = third_choice\n",
    "\n",
    "  if(keeper == win):\n",
    "    keeper_wins += 1\n",
    "  if(switcher == win):\n",
    "    switcher_wins += 1\n",
    "  if(later == win):\n",
    "    later_wins += 1\n",
    "\n",
    "print(\"Keeper win probability: \", keeper_wins/rounds)\n",
    "print(\"Switcher win probability: \", switcher_wins/rounds)\n",
    "print(\"Later win probability: \", later_wins/rounds)"
   ]
  },
  {
   "cell_type": "markdown",
   "id": "fa62b8d3-5d33-42f7-9db1-97b28051c0c2",
   "metadata": {},
   "source": [
    "### Monty Hall Problem with N doors and p $\\leq$ N Monty openings"
   ]
  },
  {
   "cell_type": "code",
   "execution_count": 3,
   "id": "7bdcb595-6704-4d37-94e1-bac55cb4a932",
   "metadata": {},
   "outputs": [],
   "source": [
    "p = 1\n",
    "N = 4"
   ]
  },
  {
   "cell_type": "code",
   "execution_count": 4,
   "id": "ece3e1cb-1266-4664-aecb-dc8c32137c30",
   "metadata": {},
   "outputs": [
    {
     "name": "stdout",
     "output_type": "stream",
     "text": [
      "Keeper win probability:  0.248\n",
      "Switcher win probability:  0.3707\n",
      "Later win probability:  0.3385\n"
     ]
    }
   ],
   "source": [
    "keeper_wins = 0\n",
    "switcher_wins = 0\n",
    "later_wins = 0\n",
    "rounds = 10000\n",
    "\n",
    "for i in range(rounds):\n",
    "\n",
    "  vec_game = np.zeros(N)\n",
    "  win = np.random.randint(0,N)\n",
    "  vec_game[win] = 1\n",
    "\n",
    "  first_choice = np.random.randint(0,N)\n",
    "\n",
    "  monty_opens = np.random.randint(0,N)\n",
    "  while(monty_opens == first_choice or monty_opens == win):\n",
    "    monty_opens = np.random.randint(0,N)\n",
    "\n",
    "  second_choice = np.random.randint(0,N)\n",
    "  while(second_choice == first_choice or second_choice == monty_opens):\n",
    "    second_choice = np.random.randint(0,N)\n",
    "\n",
    "  third_choice = np.random.randint(0,N)\n",
    "  while(third_choice == monty_opens):\n",
    "    third_choice = np.random.randint(0,N)\n",
    "\n",
    "  keeper = first_choice\n",
    "  switcher = second_choice\n",
    "  later = third_choice\n",
    "\n",
    "  if(keeper == win):\n",
    "    keeper_wins += 1\n",
    "  if(switcher == win):\n",
    "    switcher_wins += 1\n",
    "  if(later == win):\n",
    "    later_wins += 1\n",
    "\n",
    "print(\"Keeper win probability: \", keeper_wins/rounds)\n",
    "print(\"Switcher win probability: \", switcher_wins/rounds)\n",
    "print(\"Later win probability: \", later_wins/rounds)"
   ]
  },
  {
   "cell_type": "code",
   "execution_count": null,
   "id": "adf2d68b-e131-4256-ba50-bb60daa17b28",
   "metadata": {},
   "outputs": [],
   "source": []
  }
 ],
 "metadata": {
  "kernelspec": {
   "display_name": "Python 3 (ipykernel)",
   "language": "python",
   "name": "python3"
  },
  "language_info": {
   "codemirror_mode": {
    "name": "ipython",
    "version": 3
   },
   "file_extension": ".py",
   "mimetype": "text/x-python",
   "name": "python",
   "nbconvert_exporter": "python",
   "pygments_lexer": "ipython3",
   "version": "3.11.7"
  }
 },
 "nbformat": 4,
 "nbformat_minor": 5
}
